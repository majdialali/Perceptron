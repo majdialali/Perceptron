{
 "cells": [
  {
   "cell_type": "code",
   "execution_count": 1,
   "id": "e4f8ee4e",
   "metadata": {},
   "outputs": [],
   "source": [
    "class Perceptron():\n",
    "    \n",
    "        \n",
    "    bias=0\n",
    "    X=[]\n",
    "       \n",
    "    def __init__(self, learning_rate, n_iters):  \n",
    "        self.learning_rate=learning_rate\n",
    "        self.n_iters=n_iters\n",
    "      \n",
    "        self.W=self._genRandWeights()\n",
    "        \n",
    "    def _genRandWeights(self):\n",
    "        import random \n",
    "        return [random.uniform(-1, 1) for i in range(len(self.X))]\n",
    "    \n",
    "    def _calculateZ(self, X):\n",
    "        \n",
    "        \n",
    "        X_W= [self.X[i]*W[i] for i in range(len(self.W)) ]\n",
    "       \n",
    "        return sum(X_W) + self.bias\n",
    "    \n",
    "    \n",
    "    def fit(self,X, y):\n",
    "        for _ in range(self.n_iters):\n",
    "            for ix, val in enumerate(X):\n",
    "                z=self._calculateZ(X)\n",
    "                self.step_func(z)\n",
    "        \n",
    "    \n",
    "    def predict(self, X):\n",
    "        z=self._calculateZ(X)\n",
    "        return self.step_func(z)\n",
    "        \n",
    "    #activation function\n",
    "    \n",
    "    def step_func(self, x):\n",
    "        \n",
    "        return 1 if x>=0 else 0\n",
    "         \n"
   ]
  },
  {
   "cell_type": "code",
   "execution_count": 2,
   "id": "72f7ab77",
   "metadata": {},
   "outputs": [
    {
     "name": "stdout",
     "output_type": "stream",
     "text": [
      "Perceptron classification accuracy 0.5333333333333333\n"
     ]
    },
    {
     "data": {
      "image/png": "[encoded data removed]",
      "text/plain": [
       "<Figure size 432x288 with 1 Axes>"
      ]
     },
     "metadata": {
      "needs_background": "light"
     },
     "output_type": "display_data"
    }
   ],
   "source": [
    "# Test1 \n",
    "if __name__ == \"__main__\":\n",
    "    # Imports\n",
    "    import numpy as np\n",
    "    import matplotlib.pyplot as plt\n",
    "    from sklearn.model_selection import train_test_split\n",
    "    from sklearn import datasets\n",
    "\n",
    "    def accuracy(y_true, y_pred):\n",
    "        accuracy = np.sum(y_true == y_pred) / len(y_true)\n",
    "        return accuracy\n",
    "\n",
    "    X, y = datasets.make_blobs( n_samples=150, n_features=2, centers=2, cluster_std=1.05, random_state=2)\n",
    "    X_train, X_test, y_train, y_test = train_test_split(\n",
    "        X, y, test_size=0.2, random_state=123\n",
    "    )\n",
    "\n",
    "    p = Perceptron(learning_rate=0.01, n_iters=1000)\n",
    "    p.fit(X_train, y_train)\n",
    "    predictions = p.predict(X_test)\n",
    "\n",
    "    print(\"Perceptron classification accuracy\", accuracy(y_test, predictions))\n",
    "\n",
    "    fig = plt.figure()\n",
    "    ax = fig.add_subplot(1, 1, 1)\n",
    "    plt.scatter(X_train[:, 0], X_train[:, 1], marker=\"o\", c=y_train)\n",
    "\n",
    "  \n",
    "\n",
    "    plt.show()"
   ]
  },
  {
   "cell_type": "code",
   "execution_count": 6,
   "id": "4333ef6a",
   "metadata": {},
   "outputs": [
    {
     "name": "stdout",
     "output_type": "stream",
     "text": [
      "when  good and evil are strong,  good will win.\n"
     ]
    }
   ],
   "source": [
    "#Test 2    \n",
    "x_train=[[1,0], [0,1],[0,0],[1,1],[1,0], [0,1],[0,0],[1,1],[1,0], [0,1],[0,0],[1,1] ] \n",
    "\n",
    "y_train=[0,1,0,0,0,1,0,0,0,1,0,0]  \n",
    "\n",
    "\n",
    "x_test=[[1,1]]\n",
    "classes=[\"evil\", \"good\"]\n",
    "\n",
    "#the conflict between good and evil    \n",
    "\"\"\"   evil VS Good\twinn\n",
    "Strong\t0\t1\t    good\n",
    "        1\t0\t    evil\n",
    "        0\t0\t    Good\n",
    "        1\t1\t    Good\n",
    "\"\"\"\n",
    "p=Perceptron(0.1,1000)\n",
    "p.fit(x_train, y_train)\n",
    "\n",
    "\n",
    "print(\"when  good and evil are strong,  \"+classes[p.predict(x_test)] + \" will win.\" )"
   ]
  },
  {
   "cell_type": "code",
   "execution_count": null,
   "id": "dd7aead8",
   "metadata": {},
   "outputs": [],
   "source": []
  }
 ],
 "metadata": {
  "kernelspec": {
   "display_name": "Python 3",
   "language": "python",
   "name": "python3"
  },
  "language_info": {
   "codemirror_mode": {
    "name": "ipython",
    "version": 3
   },
   "file_extension": ".py",
   "mimetype": "text/x-python",
   "name": "python",
   "nbconvert_exporter": "python",
   "pygments_lexer": "ipython3",
   "version": "3.8.8"
  }
 },
 "nbformat": 4,
 "nbformat_minor": 5
}
